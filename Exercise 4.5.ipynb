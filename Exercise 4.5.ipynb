{
 "cells": [
  {
   "cell_type": "code",
   "execution_count": 2,
   "id": "2511bbdd-fd1d-4719-b147-04e44cc40437",
   "metadata": {},
   "outputs": [],
   "source": [
    "# Exercise: Calculate Seconds Since Midnight\n",
    "# Author: Sriman\n",
    "\n",
    "def get_seconds_since_midnight(hour, minute, second):\n",
    "    # Calculate the number of seconds from the hours\n",
    "    seconds_from_hours = hour * 3600\n",
    "    \n",
    "    # Calculate the number of seconds from the minutes\n",
    "    seconds_from_minutes = minute * 60\n",
    "    \n",
    "    # Sum all the seconds to get the total since midnight\n",
    "    total_seconds = seconds_from_hours + seconds_from_minutes + second\n",
    "    \n",
    "    return total_seconds\n"
   ]
  },
  {
   "cell_type": "code",
   "execution_count": 4,
   "id": "05b4cb4b-73ed-465e-bfd6-7e489f57f6c6",
   "metadata": {},
   "outputs": [
    {
     "name": "stdout",
     "output_type": "stream",
     "text": [
      "48645\n"
     ]
    }
   ],
   "source": [
    "print(get_seconds_since_midnight(13, 30, 45))\n"
   ]
  },
  {
   "cell_type": "code",
   "execution_count": 6,
   "id": "fc8ca25a-d283-47b9-afda-c939e517a6c6",
   "metadata": {},
   "outputs": [
    {
     "name": "stdout",
     "output_type": "stream",
     "text": [
      "0\n"
     ]
    }
   ],
   "source": [
    "print(get_seconds_since_midnight(0, 0, 0)) "
   ]
  },
  {
   "cell_type": "code",
   "execution_count": 8,
   "id": "bf10bbdc-d111-4cf7-8b61-8e5849324103",
   "metadata": {},
   "outputs": [
    {
     "name": "stdout",
     "output_type": "stream",
     "text": [
      "4530\n"
     ]
    }
   ],
   "source": [
    "print(get_seconds_since_midnight(1, 15, 30))"
   ]
  },
  {
   "cell_type": "code",
   "execution_count": 10,
   "id": "db7efe04-de71-4eca-8c9f-9f66b1bce5f5",
   "metadata": {},
   "outputs": [
    {
     "name": "stdout",
     "output_type": "stream",
     "text": [
      "86399\n"
     ]
    }
   ],
   "source": [
    "print(get_seconds_since_midnight(23, 59, 59))"
   ]
  },
  {
   "cell_type": "code",
   "execution_count": null,
   "id": "4cc404e5-0782-4cdb-86ce-9985443e86bf",
   "metadata": {},
   "outputs": [],
   "source": []
  }
 ],
 "metadata": {
  "kernelspec": {
   "display_name": "Python 3 (ipykernel)",
   "language": "python",
   "name": "python3"
  },
  "language_info": {
   "codemirror_mode": {
    "name": "ipython",
    "version": 3
   },
   "file_extension": ".py",
   "mimetype": "text/x-python",
   "name": "python",
   "nbconvert_exporter": "python",
   "pygments_lexer": "ipython3",
   "version": "3.12.4"
  }
 },
 "nbformat": 4,
 "nbformat_minor": 5
}
